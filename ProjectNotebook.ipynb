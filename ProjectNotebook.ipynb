{
 "cells": [
  {
   "cell_type": "markdown",
   "metadata": {},
   "source": [
    "# Project Description"
   ]
  },
  {
   "cell_type": "markdown",
   "metadata": {},
   "source": [
    "My project is a chatbox that will guess what color you're thinking. The colors you can choose from are: yellow, orange, red, purple, green, and blue. I tried to set up the chatbox in a way that will provide a variety of responses to answers, like a conversation with a real person. To begin the chatbox, type in 'pick_a_color()' at the bottom of the cell and type in any greeting in the input box. To exit the chat, type 'quit' in the input and the chatbox will end. "
   ]
  },
  {
   "cell_type": "markdown",
   "metadata": {},
   "source": [
    "## Project Code\n",
    "\n",
    "If it makes sense for your project, you can have code and outputs here in the notebook as well."
   ]
  },
  {
   "cell_type": "code",
   "execution_count": 190,
   "metadata": {},
   "outputs": [],
   "source": [
    "import Functions\n",
    "from Functions import a_question, remove_punctuation, prepare_text, selector, end_chat"
   ]
  },
  {
   "cell_type": "code",
   "execution_count": 191,
   "metadata": {
    "scrolled": true
   },
   "outputs": [
    {
     "ename": "NameError",
     "evalue": "name 'a_question' is not defined",
     "output_type": "error",
     "traceback": [
      "\u001b[0;31m---------------------------------------------------------------------------\u001b[0m",
      "\u001b[0;31mNameError\u001b[0m                                 Traceback (most recent call last)",
      "\u001b[0;32m<ipython-input-191-b1014df825e5>\u001b[0m in \u001b[0;36m<module>\u001b[0;34m()\u001b[0m\n\u001b[1;32m      1\u001b[0m \u001b[0;32mimport\u001b[0m \u001b[0mstring\u001b[0m\u001b[0;34m\u001b[0m\u001b[0;34m\u001b[0m\u001b[0m\n\u001b[1;32m      2\u001b[0m \u001b[0;32mimport\u001b[0m \u001b[0mrandom\u001b[0m\u001b[0;34m\u001b[0m\u001b[0;34m\u001b[0m\u001b[0m\n\u001b[0;32m----> 3\u001b[0;31m \u001b[0;32mimport\u001b[0m \u001b[0mTests\u001b[0m\u001b[0;34m\u001b[0m\u001b[0;34m\u001b[0m\u001b[0m\n\u001b[0m\u001b[1;32m      4\u001b[0m \u001b[0;34m\u001b[0m\u001b[0m\n\u001b[1;32m      5\u001b[0m \u001b[0minput_string\u001b[0m\u001b[0;34m=\u001b[0m\u001b[0;34m''\u001b[0m\u001b[0;34m\u001b[0m\u001b[0;34m\u001b[0m\u001b[0m\n",
      "\u001b[0;32m~/Tests.py\u001b[0m in \u001b[0;36m<module>\u001b[0;34m()\u001b[0m\n\u001b[1;32m      5\u001b[0m \u001b[0;34m\u001b[0m\u001b[0m\n\u001b[1;32m      6\u001b[0m \u001b[0;34m\u001b[0m\u001b[0m\n\u001b[0;32m----> 7\u001b[0;31m \u001b[0;32massert\u001b[0m \u001b[0mcallable\u001b[0m\u001b[0;34m(\u001b[0m\u001b[0ma_question\u001b[0m\u001b[0;34m)\u001b[0m\u001b[0;34m\u001b[0m\u001b[0;34m\u001b[0m\u001b[0m\n\u001b[0m\u001b[1;32m      8\u001b[0m \u001b[0;32massert\u001b[0m \u001b[0misinstance\u001b[0m\u001b[0;34m(\u001b[0m\u001b[0ma_question\u001b[0m\u001b[0;34m(\u001b[0m\u001b[0;34m'meow'\u001b[0m\u001b[0;34m)\u001b[0m\u001b[0;34m,\u001b[0m \u001b[0mbool\u001b[0m\u001b[0;34m)\u001b[0m\u001b[0;34m\u001b[0m\u001b[0;34m\u001b[0m\u001b[0m\n\u001b[1;32m      9\u001b[0m \u001b[0;32massert\u001b[0m \u001b[0ma_question\u001b[0m\u001b[0;34m(\u001b[0m\u001b[0;34m'hello?'\u001b[0m\u001b[0;34m)\u001b[0m \u001b[0;34m==\u001b[0m \u001b[0;32mTrue\u001b[0m\u001b[0;34m\u001b[0m\u001b[0;34m\u001b[0m\u001b[0m\n",
      "\u001b[0;31mNameError\u001b[0m: name 'a_question' is not defined"
     ]
    }
   ],
   "source": [
    "import string\n",
    "import random\n",
    "\n",
    "input_string=''\n",
    "# #This function will test if the input is a question and there will be an appropriate output for questions in this chatbox.\n",
    "# def a_question(input_string):\n",
    "#     for value in input_string:\n",
    "#         if '?' in input_string:\n",
    "#             output = True\n",
    "#         else:\n",
    "#             output = False\n",
    "#     return output\n",
    "\n",
    "# #This function will help prepare the input text for processing by removing all punctuation.\n",
    "# def remove_punctuation(input_string):\n",
    "#     out_string=[]\n",
    "#     for value in input_string:\n",
    "#         if value not in string.punctuation:\n",
    "#             out_string.append(value)\n",
    "#     out_string = ''.join(out_string)\n",
    "#     return out_string\n",
    "\n",
    "# #This function will prepare input text for processing.\n",
    "# def prepare_text(input_string):\n",
    "#     temp_string=input_string.lower()\n",
    "#     temp_string = remove_punctuation(temp_string)\n",
    "#     out_list=temp_string.split(\" \")\n",
    "#     return out_list\n",
    "\n",
    "# #This function will randomly choose from a list of the appropriate output for a processed input.\n",
    "# def selector(input_list,check_list,return_list):\n",
    "#     output= None\n",
    "#     for value in input_list:\n",
    "#         if value in check_list:\n",
    "#             output= random.choice(return_list)\n",
    "#     return output\n",
    "\n",
    "# #This function is used to end the chatbox when 'quit' is typed into the input.\n",
    "# def end_chat(input_list):\n",
    "#     if 'quit' in input_list:\n",
    "#         output = True\n",
    "#     else:\n",
    "#         output = False\n",
    "#     return output\n",
    "\n",
    "# #The following are a couple tests for the functions above.\n",
    "# assert callable(a_question)\n",
    "# assert isinstance(a_question('meow'), bool)\n",
    "# assert a_question('hello?') == True\n",
    "\n",
    "# assert callable(prepare_text)\n",
    "# assert isinstance(prepare_text('What is up?'), list)\n",
    "# assert prepare_text('What is up?') == ['what', 'is', 'up']\n",
    "\n",
    "#These are the processed inputs and the corresponding outputs that the chatbox will show.\n",
    "GREETINGS_IN = ['hello', 'hi', 'hey', 'hola', 'welcome', 'bonjour', 'greetings']\n",
    "GREETINGS_OUT = [\"Hello there! Think of a basic color (yellow, orange, red, purple, blue, green) Is it a warm or cold color?\", \\\n",
    "                 \"Hey! Let's play a game. Choose a color: yellow, orange, red, purple, blue, green. Is it a warm or cold color?\"]\n",
    "RESPONSE_1 = [\"yes\",\"yeah\",\"ok\",\"okay\",\"sure\", \"youre right\", \"thats right\", \"right\", \"correct\"]\n",
    "RESPONSE_2 = [\"no\", \"incorrect\", \"not\", \"wrong\"]\n",
    "RESPONSE_3 = [\"warm\",\"its a warm color\"]\n",
    "RESPONSE_4 = [\"cold\",\"its a cold color\"]\n",
    "QUESTION_1 = ['Is it considered light, medium, or dark?', \\\n",
    "              'Does the color remind you of lemons, oranges, or strawberries?', \\\n",
    "              'If it is a vegetable, would it be corn, squash, or chili pepper?']\n",
    "QUESTION_2 = ['Would you say the color reminds you of grass, the sky, or tulips?', \\\n",
    "              'Does the color remind you of trees, water, or Justin Bieber?', \\\n",
    "              'If it was a fruit, would it be a lime, blueberry, or grape?']\n",
    "RESPONSE_5 = ['light', 'lemon', 'lemons', 'corn']\n",
    "RESPONSE_6 = ['medium', 'orange', 'oranges', 'squash']\n",
    "RESPONSE_7 = ['dark', 'strawberries', 'strawberry', 'chili pepper']\n",
    "RESPONSE_8 = ['grass','trees', 'lime']\n",
    "RESPONSE_9 = ['sky','water', 'blueberry']\n",
    "RESPONSE_10 = ['tulips', 'flowers','justin', 'bieber', 'justin bieber', 'grape']\n",
    "ANSWER_7 = [\"The color is yellow, am I right?\", \"You're definitely thinking of yellow, right?\"]\n",
    "ANSWER_8 = [\"The color is orange, am I right?\",\"Obviously, it's orange, right?\"]\n",
    "ANSWER_9 = [\"The color is red, am I right?\", \"IT'S RED, don't tell me it's not red.\"] \n",
    "ANSWER_10 = [\"The color is green, am I right?\", \"You're thinking of green! Right?\"]\n",
    "ANSWER_11 = [\"The color is blue, am I right?\", \"Is the color you're thinking blue?\"]\n",
    "ANSWER_12 = [\"The color is purple, am I right?\", \"You're definitely thinking of purple, am I right?\"]\n",
    "CORRECT_ANSWER = ['Awesome! Pick another color, is it warm or cold?', \\\n",
    "                  \"Cool, let's play again! Is your new color warm or cold?\"]\n",
    "WRONG_ANSWER = [\"I tried my best. Pick another color, is it warm or cold? or type 'quit' to quit\", \\\n",
    "                \"Oh no! Let's try again. Is it warm or cold?\", \\\n",
    "                \"Y = mx + it b like that sometimes. Pick another color or type 'quit' to quit\"]\n",
    "OTHER = [\"This is all I can do, you have to pick another color or type 'quit'to quit\", \\\n",
    "         \"Did you type that right? Try again.\", \\\n",
    "         \"Wait what?\", \\\n",
    "         \"Huh?\"]\n",
    "\n",
    "#The following is the code for my chatbox. You can see there is a section that creates the appropriate output for a processed input.\n",
    "def pick_a_color():\n",
    "    chat = True\n",
    "    while chat:\n",
    "        msg = input('INPUT :\\t')\n",
    "        out_msg = None\n",
    "        question = a_question(msg)\n",
    "        msg = prepare_text(msg)\n",
    "        if end_chat(msg):\n",
    "            out_msg = 'Bye!'\n",
    "            print(outs)\n",
    "            chat = False\n",
    "        if not out_msg:\n",
    "            outs = []\n",
    "            outs.append(selector(msg, GREETINGS_IN, GREETINGS_OUT))\n",
    "            outs.append(selector(msg, RESPONSE_2, WRONG_ANSWER))\n",
    "            outs.append(selector(msg, RESPONSE_1, CORRECT_ANSWER))\n",
    "            outs.append(selector(msg, RESPONSE_3, QUESTION_1))\n",
    "            outs.append(selector(msg, RESPONSE_5, ANSWER_7))\n",
    "            outs.append(selector(msg, RESPONSE_6, ANSWER_8))\n",
    "            outs.append(selector(msg, RESPONSE_7, ANSWER_9))\n",
    "            outs.append(selector(msg, RESPONSE_4, QUESTION_2))\n",
    "            outs.append(selector(msg, RESPONSE_8, ANSWER_10))\n",
    "            outs.append(selector(msg, RESPONSE_9, ANSWER_11))\n",
    "            outs.append(selector(msg, RESPONSE_10, ANSWER_12))\n",
    "        options = list(filter(None, outs))\n",
    "        if options:\n",
    "            out_msg = random.choice(options)\n",
    "        if not out_msg and question:\n",
    "            out_msg = OTHER\n",
    "        if not out_msg:\n",
    "            out_msg = random.choice(OTHER)\n",
    "        print('OUTPUT:', out_msg)\n",
    "        \n",
    "#To run the chatbox, run the cell and type in a greeting into the input box.   \n",
    "pick_a_color()"
   ]
  },
  {
   "cell_type": "code",
   "execution_count": null,
   "metadata": {},
   "outputs": [],
   "source": []
  }
 ],
 "metadata": {
  "kernelspec": {
   "display_name": "Python 3",
   "language": "python",
   "name": "python3"
  },
  "language_info": {
   "codemirror_mode": {
    "name": "ipython",
    "version": 3
   },
   "file_extension": ".py",
   "mimetype": "text/x-python",
   "name": "python",
   "nbconvert_exporter": "python",
   "pygments_lexer": "ipython3",
   "version": "3.6.7"
  }
 },
 "nbformat": 4,
 "nbformat_minor": 2
}
